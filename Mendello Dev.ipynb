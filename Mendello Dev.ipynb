{
 "cells": [
  {
   "cell_type": "markdown",
   "metadata": {
    "deletable": true,
    "editable": true
   },
   "source": [
    "Andy Miller\n",
    "# Why is there an ipython notebook here?\n",
    "1. Everything here is garbage\n",
    "2. This is for development\n",
    "3. Don't use this code unless you're just playing around"
   ]
  },
  {
   "cell_type": "code",
   "execution_count": 3,
   "metadata": {
    "collapsed": false,
    "deletable": true,
    "editable": true
   },
   "outputs": [
    {
     "name": "stdout",
     "output_type": "stream",
     "text": [
      "['drA', 'drT', 'drC', 'drG']\n"
     ]
    }
   ],
   "source": [
    "#Defining DNA:\n",
    "drA = 'drA' #Adenine\n",
    "drT = 'drT' #Thymine\n",
    "drC = 'drC' #Cytosine\n",
    "drG = 'drG' #Guanine\n",
    "DNA = [drA, drT, drC, drG] #DNA\n",
    "print(DNA)"
   ]
  },
  {
   "cell_type": "code",
   "execution_count": 4,
   "metadata": {
    "collapsed": false,
    "deletable": true,
    "editable": true
   },
   "outputs": [
    {
     "name": "stdout",
     "output_type": "stream",
     "text": [
      "['mrA', 'mrU', 'mrC', 'mrG']\n"
     ]
    }
   ],
   "source": [
    "#Defining mRNA:\n",
    "mrA = 'mrA' #Adenine\n",
    "mrU = 'mrU' #Uracil\n",
    "mrC = 'mrC' #Cytosine\n",
    "mrG = 'mrG' #Guanine\n",
    "mRNA = [mrA, mrU, mrC, mrG] #mRNA\n",
    "print(mRNA)"
   ]
  },
  {
   "cell_type": "code",
   "execution_count": 5,
   "metadata": {
    "collapsed": false,
    "deletable": true,
    "editable": true
   },
   "outputs": [
    {
     "name": "stdout",
     "output_type": "stream",
     "text": [
      "['trA', 'trU', 'trC', 'trG']\n"
     ]
    }
   ],
   "source": [
    "#Defining tRNA:\n",
    "trA = 'trA' #Adenine\n",
    "trU = 'trU' #Uracil\n",
    "trC = 'trC' #Cytosine\n",
    "trG = 'trG' #Guanine\n",
    "tRNA = [trA, trU, trC, trG] #tRNA\n",
    "print(tRNA)"
   ]
  },
  {
   "cell_type": "code",
   "execution_count": 6,
   "metadata": {
    "collapsed": false,
    "deletable": true,
    "editable": true
   },
   "outputs": [
    {
     "name": "stdout",
     "output_type": "stream",
     "text": [
      "['Arg', 'His', 'Lys']\n",
      "['Asp', 'Glu']\n",
      "['Ser', 'Thr', 'Asn', 'Gln']\n",
      "['Cys', 'Sec', 'Gly', 'Pro']\n",
      "['Ala', 'Val', 'Ile', 'Leu', 'Met', 'Phe', 'Tyr', 'Trp']\n",
      "['Arg', 'His', 'Lys', 'Asp', 'Glu', 'Ser', 'Thr', 'Asn', 'Gln', 'Cys', 'Sec', 'Gly', 'Pro', 'Ala', 'Val', 'Ile', 'Leu', 'Met', 'Phe', 'Tyr', 'Trp']\n"
     ]
    }
   ],
   "source": [
    "#Defining Nucleic Acids & Stop Codon\n",
    "\n",
    "#Positive:\n",
    "Arg = 'Arg' #Arginine\n",
    "His = 'His' #Histadine\n",
    "Lys = 'Lys' #Lysine\n",
    "Pos = [Arg, His, Lys] #Positive\n",
    "\n",
    "#Negative:\n",
    "Asp = 'Asp' #Aspartic Acid\n",
    "Glu = 'Glu' #Glutamic Acid\n",
    "Neg = [Asp, Glu] #Negative\n",
    "\n",
    "#Polar Uncharged:\n",
    "Ser = 'Ser' #Serine\n",
    "Thr = 'Thr' #Threonine\n",
    "Asn = 'Asn' #Asparagine\n",
    "Gln = 'Gln' #Glutamine\n",
    "Pun = [Ser, Thr, Asn, Gln] #Polar Uncharged\n",
    "\n",
    "#Strange\n",
    "Cys = 'Cys' #Cysteine\n",
    "Sec = 'Sec' #Selenocysteine\n",
    "Gly = 'Gly' #Glycine\n",
    "Pro = 'Pro' #Proline\n",
    "Str = [Cys, Sec, Gly, Pro] #Strange\n",
    "\n",
    "#Hydrophobic\n",
    "Ala = 'Ala' #Alanine\n",
    "Val = 'Val' #Valine\n",
    "Ile = 'Ile' #Isoleucine\n",
    "Leu = 'Leu' #Leucine\n",
    "Met = 'Met' #Methionine\n",
    "Phe = 'Phe' #Phenylalanine\n",
    "Tyr = 'Tyr' #Tyrosine\n",
    "Trp = 'Trp' #Tryptophan\n",
    "Hyd = [Ala, Val, Ile, Leu, Met, Phe, Tyr, Trp]\n",
    "\n",
    "#Stop\n",
    "Stop = 'Stop'\n",
    "\n",
    "AA = Pos + Neg + Pun + Str + Hyd #Amino Acids\n",
    "\n",
    "print(Pos)\n",
    "print(Neg)\n",
    "print(Pun)\n",
    "print(Str)\n",
    "print(Hyd)\n",
    "print(AA)"
   ]
  },
  {
   "cell_type": "code",
   "execution_count": 7,
   "metadata": {
    "collapsed": false,
    "deletable": true,
    "editable": true
   },
   "outputs": [
    {
     "name": "stdout",
     "output_type": "stream",
     "text": [
      "['Arg', 'His', 'Lys', 'Asp', 'Glu', 'Ser', 'Thr', 'Asn', 'Gln', 'Cys', 'Sec', 'Gly', 'Pro', 'Ala', 'Val', 'Ile', 'Leu', 'Met', 'Phe', 'Tyr', 'Trp']\n",
      "21\n"
     ]
    }
   ],
   "source": [
    "#Test to see if building blocks works.\n",
    "AA = 0\n",
    "from buildingBlocks import *\n",
    "print(AA)\n",
    "print(len(AA))"
   ]
  },
  {
   "cell_type": "code",
   "execution_count": 8,
   "metadata": {
    "collapsed": true
   },
   "outputs": [],
   "source": [
    "#"
   ]
  },
  {
   "cell_type": "code",
   "execution_count": 14,
   "metadata": {
    "collapsed": false,
    "deletable": true,
    "editable": true
   },
   "outputs": [],
   "source": [
    "def translation(base_1, base_2, base_3):\n",
    "    \"\"\"\n",
    "    This funcition literally just takes in 3 mRNA base pairs and outputs what Amino Acid it codes for.\n",
    "    \n",
    "    Takes in 3 bases\n",
    "    \n",
    "    Returns amino group\n",
    "    \"\"\"\n",
    "    # Phe\n",
    "    if base_1 == mrU and base_2 == mrU and base_3 == mrU or base_3 == mrC:\n",
    "        amino = Phe\n",
    "    \n",
    "    # Leu\n",
    "    if (base_1 == mrC or base_1 ==mrU) and base_2 == mrU and (base_3 == mrU or base_3 == mrC or base_3 == mrA or base_3 == mrG):\n",
    "        amino = Leu\n",
    "    \n",
    "    # Ile\n",
    "    if base_1 == mrA and base_2 == mrU and (base_3 == mrU or base_3 == mrC or base_3 == mrA):\n",
    "        amino = Ile\n",
    "    \n",
    "    # Met\n",
    "    # Met is also the start codon\n",
    "    if base_1 == mrA and base_2 == mrU and base_3 == mrG:\n",
    "        amino = Met\n",
    "    \n",
    "    # Val\n",
    "    if base_1 == mrG and base_2 == mrU and (base_3 == mrU or base_3 == mrC or base_3 == mrA or base_3 == mrG):\n",
    "        amino = Val\n",
    "    \n",
    "    # Ser\n",
    "    if base_1 == mrU and base_2 == mrC and (base_3 == mrU or base_3 == mrC or base_3 == mrA or base_3 == mrG):\n",
    "        amino = Ser\n",
    "    \n",
    "    # Pro\n",
    "    if base_1 == mrC and base_2 == mrC and (base_3 == mrU or base_3 == mrC or base_3 == mrA or base_3 == mrG):\n",
    "        amino = Pro\n",
    "    \n",
    "    # Thr\n",
    "    if base_1 == mrA and base_2 == mrC and (base_3 == mrU or base_3 == mrC or base_3 == mrA or base_3 == mrG):\n",
    "        amino = Thr\n",
    "    \n",
    "    # Ala\n",
    "    if base_1 == mrG and base_2 == mrC and (base_3 == mrU or base_3 == mrC or base_3 == mrA or base_3 == mrG):\n",
    "        amino = Ala\n",
    "    \n",
    "    # Tyr\n",
    "    if base_1 == mrU and base_2 == mrA and (base_3 == mrU or base_3 == mrC):\n",
    "        amino = Tyr\n",
    "    \n",
    "    # Stop\n",
    "    if base_1 == mrU and (base_2 == mrA or base_2 == mrG) and (base_3 == mrA or base_3 == mrG):\n",
    "        amino = Stop\n",
    "    \n",
    "    # His\n",
    "    if base_1 == mrC and base_2 == mrA and (base_3 == mrU or base_3 == mrC):\n",
    "        amino = His\n",
    "    \n",
    "    # Gln\n",
    "    if base_1 == mrC and base_2 == mrA and (base_3 == mrA or base_3 == mrG):\n",
    "        amino = Gln\n",
    "    \n",
    "    # Asn\n",
    "    if base_1 == mrA and base_2 == mrA and (base_3 == mrU or base_3 == mrC):\n",
    "        amino = Asn\n",
    "    \n",
    "    # Lys\n",
    "    if base_1 == mrA and base_2 == mrA and (base_3 == mrA or base_3 == mrG):\n",
    "        amino = Lys\n",
    "    \n",
    "    # Asp\n",
    "    if base_1 == mrG and base_2 == mrA and (base_3 == mrU or base_3 == mrC):\n",
    "        amino = Asp\n",
    "    \n",
    "    # Glu\n",
    "    if base_1 == mrG and base_2 == mrA and (base_3 == mrA or base_3 == mrG):\n",
    "        amino = Glu\n",
    "    \n",
    "    # Cys\n",
    "    if base_1 == mrU and base_2 == mrG and (base_3 == mrU or base_3 == mrC):\n",
    "        amino = Cys\n",
    "    \n",
    "    # Trp\n",
    "    if base_1 == mrU and base_2 == mrG and base_3 == mrG:\n",
    "        amino = Trp\n",
    "    \n",
    "    # Arg\n",
    "    if base_1 == mrC and base_2 == mrG and (base_3 == mrU or base_3 == mrC or base_3 == mrA or base_3 == mrG):\n",
    "        amino = Arg\n",
    "    \n",
    "    # Ser\n",
    "    if base_1 == mrA and base_2 == mrG and (base_3 == mrA or base_3 == mrG):\n",
    "        amino = Ser\n",
    "    \n",
    "    # Arg\n",
    "    if base_1 == mrA and base_2 == mrG and (base_3 == mrA or base_3 == mrG):\n",
    "        amino = Arg\n",
    "    \n",
    "    #Gly\n",
    "    if base_1 == mrG and base_2 == mrG and (base_3 == mrU or base_3 == mrC or base_3 == mrA or base_3 == mrG):\n",
    "        amino = Gly\n",
    "    \n",
    "    # return amino group\n",
    "    return amino"
   ]
  },
  {
   "cell_type": "code",
   "execution_count": 15,
   "metadata": {
    "collapsed": false
   },
   "outputs": [
    {
     "data": {
      "text/plain": [
       "'Phe'"
      ]
     },
     "execution_count": 15,
     "metadata": {},
     "output_type": "execute_result"
    }
   ],
   "source": [
    "# Test\n",
    "translation(mrA, mrG, mrC)"
   ]
  },
  {
   "cell_type": "code",
   "execution_count": null,
   "metadata": {
    "collapsed": true
   },
   "outputs": [],
   "source": []
  }
 ],
 "metadata": {
  "kernelspec": {
   "display_name": "Python 3",
   "language": "python",
   "name": "python3"
  },
  "language_info": {
   "codemirror_mode": {
    "name": "ipython",
    "version": 3
   },
   "file_extension": ".py",
   "mimetype": "text/x-python",
   "name": "python",
   "nbconvert_exporter": "python",
   "pygments_lexer": "ipython3",
   "version": "3.6.0"
  }
 },
 "nbformat": 4,
 "nbformat_minor": 2
}
